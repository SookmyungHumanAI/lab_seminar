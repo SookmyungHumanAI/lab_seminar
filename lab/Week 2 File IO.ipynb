{
 "cells": [
  {
   "cell_type": "markdown",
   "id": "bc363ac8",
   "metadata": {},
   "source": [
    "# str/array/tensor slicing"
   ]
  },
  {
   "cell_type": "markdown",
   "id": "39a36f49",
   "metadata": {},
   "source": [
    "## string"
   ]
  },
  {
   "cell_type": "code",
   "execution_count": null,
   "id": "802980c7",
   "metadata": {},
   "outputs": [],
   "source": [
    "import os\n",
    "string = os.getcwd()\n",
    "string"
   ]
  },
  {
   "cell_type": "code",
   "execution_count": null,
   "id": "e368b025",
   "metadata": {},
   "outputs": [],
   "source": [
    "string.split(\"/\") # for ubuntu\n",
    "# string.split(\"\\\\\") # for windows"
   ]
  },
  {
   "cell_type": "markdown",
   "id": "cbe4d080",
   "metadata": {},
   "source": [
    "- \\t, \\n, 등은 escape sequence라고 해서 특별한 기능을 가지고 있는 표현\n",
    "- escape sequence를 기준으로 슬라이싱 하려면 \\를 두 번 입력해서 문자라는 것을 알려줘야 함.\n",
    "- 아래에서 더 많은 escape sequence를 확인할 수 있음\n",
    "\\\n",
    "<a href='https://dojang.io/mod/page/view.php?id=2465'>Escape Sequence</a>"
   ]
  },
  {
   "cell_type": "code",
   "execution_count": null,
   "id": "4228331c",
   "metadata": {},
   "outputs": [],
   "source": [
    "# error\n",
    "\"\\\\a\\\\b\\\\c\\\\d\".split(\"\\\")"
   ]
  },
  {
   "cell_type": "code",
   "execution_count": null,
   "id": "d042102a",
   "metadata": {},
   "outputs": [],
   "source": [
    "\"\\\\a\\\\b\\\\c\\\\d\".split(\"\\\\\")"
   ]
  },
  {
   "cell_type": "markdown",
   "id": "5e01b28d",
   "metadata": {},
   "source": [
    "- 개인적인.. 생각으로 문자열 slicing을 가장 많이 쓰는 것은 파일 입출력을 할 때였음\n",
    "- f-string 으로 일정하게 파일 이름 생성하기 가능함"
   ]
  },
  {
   "cell_type": "markdown",
   "id": "61c646ac",
   "metadata": {},
   "source": [
    "## f-string"
   ]
  },
  {
   "cell_type": "markdown",
   "id": "c07c058a",
   "metadata": {},
   "source": [
    "### 폴더 생성/삭제/이동"
   ]
  },
  {
   "cell_type": "code",
   "execution_count": null,
   "id": "c16ac1ef",
   "metadata": {},
   "outputs": [],
   "source": [
    "os.mkdir(\"day2\")"
   ]
  },
  {
   "cell_type": "code",
   "execution_count": null,
   "id": "30acb9df",
   "metadata": {},
   "outputs": [],
   "source": [
    "os.rmdir(\"day2\")"
   ]
  },
  {
   "cell_type": "code",
   "execution_count": null,
   "id": "ab2e4bfe",
   "metadata": {},
   "outputs": [],
   "source": [
    "if not os.path.exists(\"day2\"):\n",
    "    os.mkdir(\"day2\")\n",
    "    print(\"Make folder: day2\")\n",
    "else:\n",
    "    print(\"Folder exists: 'day2'\")"
   ]
  },
  {
   "cell_type": "code",
   "execution_count": null,
   "id": "ef586339",
   "metadata": {},
   "outputs": [],
   "source": [
    "for i in range(3):\n",
    "    os.mkdir(f\"day2/test{i}\")"
   ]
  },
  {
   "cell_type": "code",
   "execution_count": null,
   "id": "0894a686",
   "metadata": {},
   "outputs": [],
   "source": [
    "# os.remove(): directory가 아닌 파일 삭제할 때 사용 가능\n",
    "import glob\n",
    "for fname in glob.glob(\"*\"):\n",
    "    if os.path.isdir(f\"./{fname}\"):\n",
    "        print(fname)\n",
    "        for sub_folder in glob.glob(f\"{fname}/*\"):\n",
    "            if not os.path.isfile(sub_folder):\n",
    "                os.rmdir(f\"{sub_folder}\")\n",
    "                print(f\"remove directory {sub_folder}\")\n",
    "            else:\n",
    "                print(f\"{sub_folder}\")\n",
    "os.rmdir(\"day2\")    "
   ]
  },
  {
   "cell_type": "code",
   "execution_count": null,
   "id": "78d9e917",
   "metadata": {},
   "outputs": [],
   "source": [
    "folder = \"./day2/folder1\"\n",
    "for i in range(5):\n",
    "    int_folder = f\"{folder}/{i}\" # folder/1, folder/2, ...\n",
    "    print(int_folder)"
   ]
  },
  {
   "cell_type": "code",
   "execution_count": null,
   "id": "50fcf63a",
   "metadata": {},
   "outputs": [],
   "source": [
    "folder = \"./day2/folder2\"\n",
    "for i in range(5):\n",
    "    int_folder_clean = f\"{folder}/{i:03d}\" # folder/001, folder/002, ...\n",
    "    print(int_folder_clean)"
   ]
  },
  {
   "cell_type": "markdown",
   "id": "c754ed10",
   "metadata": {},
   "source": [
    "<a href='https://docs.python.org/ko/3/library/random.html'>random</a>"
   ]
  },
  {
   "cell_type": "code",
   "execution_count": null,
   "id": "b5784267",
   "metadata": {},
   "outputs": [],
   "source": [
    "import random\n",
    "folder = \"./day2/folder3\"\n",
    "for i in range(5):\n",
    "    rand_float = random.random()\n",
    "    float_folder = f\"{folder}/{rand_float}\"\n",
    "    float_folder_clean = f\"{folder}/{rand_float:.4f}\"\n",
    "    print(f\"{float_folder} -> {float_folder_clean}\")"
   ]
  },
  {
   "cell_type": "markdown",
   "id": "f9cb97de",
   "metadata": {},
   "source": [
    "<a href='https://www.w3schools.com/python/python_string_formatting.asp'>string formatting</a>"
   ]
  },
  {
   "cell_type": "code",
   "execution_count": null,
   "id": "3e9ca081",
   "metadata": {},
   "outputs": [],
   "source": [
    "import random\n",
    "folder = \"./day2/folder4\"\n",
    "for i in [\"a\", \"b\", \"c\", \"d\", \"e\"]:\n",
    "    left_align_folder = f\"{folder}/{i:<8}\"\n",
    "    right_align_folder = f\"{folder}/{i:>8}\"\n",
    "    print(f\"{left_align_folder}-{right_align_folder}\")"
   ]
  },
  {
   "cell_type": "markdown",
   "id": "08aa65d5",
   "metadata": {},
   "source": [
    "### 파일 생성 및 복사"
   ]
  },
  {
   "cell_type": "code",
   "execution_count": null,
   "id": "6e746cff",
   "metadata": {},
   "outputs": [],
   "source": [
    "os.listdir(\"../source/\")"
   ]
  },
  {
   "cell_type": "code",
   "execution_count": null,
   "id": "31c0d7e0",
   "metadata": {},
   "outputs": [],
   "source": [
    "glob.glob(\"../source/*\")"
   ]
  },
  {
   "cell_type": "code",
   "execution_count": null,
   "id": "ba49bc85",
   "metadata": {},
   "outputs": [],
   "source": [
    "os.mkdir(\"\")"
   ]
  },
  {
   "cell_type": "code",
   "execution_count": null,
   "id": "a2af2a7c",
   "metadata": {},
   "outputs": [],
   "source": [
    "os.mkdir(\"????\")\n",
    "os.mkdir(\"????\")"
   ]
  },
  {
   "cell_type": "code",
   "execution_count": null,
   "id": "1e292ba6",
   "metadata": {},
   "outputs": [],
   "source": [
    "from shutil import copy\n",
    "path = os.getcwd()\n",
    "print(path)\n",
    "for source_path in glob.glob(f\"{path}/source/dog*\"):\n",
    "    print(source_path.split(\"\\\\\")[-1])\n",
    "    target_path = path + \"/source/dog/\" + file.split(\"\\\\\")[-1]\n",
    "    copy(source_path, target_path)\n",
    "\n",
    "for source_path in glob.glob(f\"{path}/source/cat*\"):\n",
    "    print(source_path.split(\"\\\\\")[-1])\n",
    "    target_path = path + \"/source/cat/\" + file.split(\"\\\\\")[-1]\n",
    "    copy(source_path, target_path)"
   ]
  },
  {
   "cell_type": "code",
   "execution_count": null,
   "id": "72ad82eb",
   "metadata": {},
   "outputs": [],
   "source": [
    "from shutil import copy\n",
    "path = os.getcwd()\n",
    "print(path)\n",
    "for file in glob.glob(f\"{path}/source/*/*\"):\n",
    "    print(file)"
   ]
  },
  {
   "cell_type": "code",
   "execution_count": null,
   "id": "ac27c743",
   "metadata": {},
   "outputs": [],
   "source": [
    "os.mkdir(\"label\")"
   ]
  },
  {
   "cell_type": "code",
   "execution_count": null,
   "id": "6302b54c",
   "metadata": {},
   "outputs": [],
   "source": [
    "from shutil import copy\n",
    "path = os.getcwd()\n",
    "print(path)\n",
    "for file in glob.glob(f\"{path}/source/*/*\"):\n",
    "    label = ????\n",
    "    fname = ????\n",
    "    f = open(f\"{path}/label/{fname}.txt\", 'a')\n",
    "    data = f\"{label}\\n{file}\\n\"\n",
    "    f.write(data)\n",
    "    f.close()\n",
    "    print(f\"save the label for {file}\")"
   ]
  },
  {
   "cell_type": "code",
   "execution_count": null,
   "id": "2fd6dd1b",
   "metadata": {},
   "outputs": [],
   "source": []
  },
  {
   "cell_type": "code",
   "execution_count": null,
   "id": "4a1950f2",
   "metadata": {
    "scrolled": true
   },
   "outputs": [],
   "source": [
    "import matplotlib.pyplot as plt\n",
    "img = plt.imread(\"../source/cat3.jpg\")\n",
    "img.shape, img"
   ]
  },
  {
   "cell_type": "code",
   "execution_count": null,
   "id": "c83bd2ad",
   "metadata": {},
   "outputs": [],
   "source": [
    "plt.imshow(img)"
   ]
  },
  {
   "cell_type": "code",
   "execution_count": null,
   "id": "0683d8be",
   "metadata": {},
   "outputs": [],
   "source": [
    "plt.imshow(img[25:125])"
   ]
  },
  {
   "cell_type": "code",
   "execution_count": null,
   "id": "be8fbe9c",
   "metadata": {},
   "outputs": [],
   "source": [
    "plt.imshow(img[:,100:200])"
   ]
  },
  {
   "cell_type": "code",
   "execution_count": null,
   "id": "2d1c132c",
   "metadata": {},
   "outputs": [],
   "source": [
    "plt.imshow(img[25:125,100:200])"
   ]
  },
  {
   "cell_type": "code",
   "execution_count": null,
   "id": "0d790a8f",
   "metadata": {
    "scrolled": true
   },
   "outputs": [],
   "source": [
    "import numpy as np\n",
    "red = np.zeros_like((img))\n",
    "blue = np.zeros_like((img))\n",
    "green = np.zeros_like((img))\n",
    "red[...,:1] = img[...,:1]\n",
    "blue[...,1:2] = img[...,1:2]\n",
    "green[...,2:] = img[...,2:]\n",
    "\n",
    "plt.figure(figsize=(14,5))\n",
    "plt.subplot(1,3,1)\n",
    "plt.imshow(red) # img[:,:,:1]\n",
    "plt.axis(\"off\")\n",
    "\n",
    "plt.subplot(1,3,2)\n",
    "plt.imshow(blue) # img[:,:,:1]\n",
    "plt.axis(\"off\")\n",
    "\n",
    "plt.subplot(1,3,3)\n",
    "plt.imshow(green) # img[:,:,:1]\n",
    "plt.axis(\"off\")\n",
    "plt.tight_layout()"
   ]
  },
  {
   "cell_type": "code",
   "execution_count": null,
   "id": "e708bbb9",
   "metadata": {},
   "outputs": [],
   "source": [
    "import torch\n",
    "RGB = torch.zeros((150,150,3)).int()\n",
    "RGB[???] = 255\n",
    "RGB[???] = 255\n",
    "RGB[???] = 255\n",
    "plt.imshow(RGB)"
   ]
  },
  {
   "cell_type": "code",
   "execution_count": null,
   "id": "b980f985",
   "metadata": {},
   "outputs": [],
   "source": [
    "import numpy as np\n",
    "red = np.zeros_like((RGB))\n",
    "blue = np.zeros_like((RGB))\n",
    "green = np.zeros_like((RGB))\n",
    "red[...,:1] = RGB[...,:1]\n",
    "blue[...,1:2] = RGB[...,1:2]\n",
    "green[...,2:] = RGB[...,2:]\n",
    "\n",
    "plt.figure(figsize=(14,5))\n",
    "plt.subplot(1,4,1)\n",
    "plt.imshow(red) # img[:,:,:1]\n",
    "plt.axis(\"off\")\n",
    "\n",
    "plt.subplot(1,4,2)\n",
    "plt.imshow(blue) # img[:,:,:1]\n",
    "plt.axis(\"off\")\n",
    "\n",
    "plt.subplot(1,4,3)\n",
    "plt.imshow(green) # img[:,:,:1]\n",
    "plt.axis(\"off\")\n",
    "\n",
    "plt.subplot(1,4,4)\n",
    "plt.imshow(RGB) # img[:,:,:1]\n",
    "plt.axis(\"off\")\n",
    "\n",
    "plt.tight_layout()"
   ]
  },
  {
   "cell_type": "code",
   "execution_count": null,
   "id": "c311d67e",
   "metadata": {},
   "outputs": [],
   "source": [
    "RGB = torch.zeros((150,150,3)).int()\n",
    "RGB[????] = 255\n",
    "RGB[????] = 255\n",
    "RGB[????] = 255\n",
    "\n",
    "import numpy as np\n",
    "red = np.zeros_like((RGB))\n",
    "blue = np.zeros_like((RGB))\n",
    "green = np.zeros_like((RGB))\n",
    "red[...,:1] = RGB[...,:1]\n",
    "blue[...,1:2] = RGB[...,1:2]\n",
    "green[...,2:] = RGB[...,2:]\n",
    "\n",
    "plt.figure(figsize=(14,5))\n",
    "plt.subplot(1,4,1)\n",
    "plt.imshow(red) # img[:,:,:1]\n",
    "plt.axis(\"off\")\n",
    "\n",
    "plt.subplot(1,4,2)\n",
    "plt.imshow(blue) # img[:,:,:1]\n",
    "plt.axis(\"off\")\n",
    "\n",
    "plt.subplot(1,4,3)\n",
    "plt.imshow(green) # img[:,:,:1]\n",
    "plt.axis(\"off\")\n",
    "\n",
    "plt.subplot(1,4,4)\n",
    "plt.imshow(RGB) # img[:,:,:1]\n",
    "plt.axis(\"off\")\n",
    "\n",
    "plt.tight_layout()"
   ]
  },
  {
   "cell_type": "markdown",
   "id": "bd3298b4",
   "metadata": {},
   "source": [
    "# Quiz"
   ]
  },
  {
   "cell_type": "code",
   "execution_count": null,
   "id": "1409d1f4",
   "metadata": {},
   "outputs": [],
   "source": [
    "horizontal_gradation = torch.zeros((10,10,3))\n",
    "for i in range(len(horizontal_gradation)):\n",
    "    color = (255/(horizontal_gradation.shape[0]-1))*i\n",
    "    ### QUIZ 1: 가로방향으로 그라데이션을 만들어보세요!(위->아래) ###\n",
    "    horizontal_gradation[????] = color\n",
    "    #############################################################\n",
    "\n",
    "vertical_gradation = torch.zeros((10,10,3))\n",
    "for i in range(len(vertical_gradation)):\n",
    "    color = (255/(vertical_gradation.shape[0]-1))*i\n",
    "    ### QUIZ 2: 세로방향으로 그라데이션을 만들어보세요! (왼 -> 오) ###\n",
    "    vertical_gradation[????] = color\n",
    "    ###############################################################\n",
    "plt.figure(figsize=(12,6))\n",
    "plt.subplot(121)\n",
    "plt.title(\"horizontal\", fontsize=20)\n",
    "plt.imshow(horizontal_gradation.int())\n",
    "plt.subplot(122)\n",
    "plt.title(\"vertical\", fontsize=20)\n",
    "plt.imshow(vertical_gradation.int())\n",
    "plt.show()"
   ]
  },
  {
   "cell_type": "markdown",
   "id": "e1733663",
   "metadata": {},
   "source": [
    "<a href=https://ko.wikipedia.org/wiki/%EC%82%BC%EA%B0%81%ED%96%89%EB%A0%AC>trinangular matrix</a>"
   ]
  },
  {
   "cell_type": "code",
   "execution_count": null,
   "id": "32600378",
   "metadata": {},
   "outputs": [],
   "source": [
    "fav_color = torch.Tensor([216,191,216])\n",
    "array_size = (20,20,3)\n",
    "\n",
    "# upper triangle\n",
    "upper_triangle = torch.empty(array_size)*255\n",
    "for i in range(upper_triangle.shape[0]):\n",
    "    for j in range(upper_triangle.shape[1]):\n",
    "        ##### QUIZ 3: 알맞은 부호를 입력해 upper triangle를 시각화 해보세요! #####\n",
    "        if i????j:\n",
    "        #######################################################################\n",
    "            upper_triangle[i,j,:] = 0\n",
    "        else:\n",
    "            upper_triangle[i,j,:] = fav_color\n",
    "# lower triangle\n",
    "lower_triangle = torch.empty(array_size)*255\n",
    "for i in range(lower_triangle.shape[0]):\n",
    "    for j in range(lower_triangle.shape[1]):\n",
    "        ##### QUIZ 4: 알맞은 부호를 입력해 lower triangle를 시각화 해보세요! #####\n",
    "        if i????j:\n",
    "        #######################################################################\n",
    "            lower_triangle[i,j,:] = 0\n",
    "        else:\n",
    "            lower_triangle[i,j,:] = fav_color\n",
    "# upper triangle\n",
    "green_triangle = torch.empty(array_size)\n",
    "for i in range(green_triangle.shape[0]):\n",
    "    for j in range(green_triangle.shape[1]):\n",
    "        ##### QUIZ 5: green upper triangle를 시각화 해보세요! #####\n",
    "        ######################## R, G, B ########################\n",
    "        if i????j:\n",
    "            # Method 1\n",
    "            green_triangle[i,j,1] = 255\n",
    "            green_triangle[i,j,0] = 0\n",
    "            green_triangle[i,j,2] = 0\n",
    "            # Method 2\n",
    "            green_triangle[i,j,:] = torch.Tensor([0,255,0])\n",
    "        else:\n",
    "            green_triangle[i,j,:] = fav_color\n",
    "        ##########################################################\n",
    "\n",
    "# lower triangle\n",
    "yellow_triangle = torch.empty(array_size)\n",
    "for i in range(yellow_triangle.shape[0]):\n",
    "    for j in range(yellow_triangle.shape[1]):\n",
    "        ##### QUIZ 6: yellow lower triangle를 시각화 해보세요! #####\n",
    "        #################### Hint: R + G = Y #####################\n",
    "        if i>=j:\n",
    "            yellow_triangle[i,j,????] = 255\n",
    "            yellow_triangle[i,j,????] = 0\n",
    "        else:\n",
    "            yellow_triangle[i,j,:] = fav_color\n",
    "        ###########################################################\n",
    "\n",
    "plt.figure(figsize=(16,6))\n",
    "plt.subplot(141)\n",
    "plt.title(\"upper triangle\")\n",
    "plt.imshow(upper_triangle.int())\n",
    "plt.subplot(142)\n",
    "plt.title(\"lower triangle\")\n",
    "plt.imshow(lower_triangle.int())\n",
    "plt.subplot(143)\n",
    "plt.title(\"green upper triangle\")\n",
    "plt.imshow(green_triangle.int())\n",
    "plt.subplot(144)\n",
    "plt.title(\"yellow lower triangle\")\n",
    "plt.imshow(yellow_triangle.int())\n",
    "plt.show()"
   ]
  }
 ],
 "metadata": {
  "kernelspec": {
   "display_name": "Python 3 (ipykernel)",
   "language": "python",
   "name": "python3"
  },
  "language_info": {
   "codemirror_mode": {
    "name": "ipython",
    "version": 3
   },
   "file_extension": ".py",
   "mimetype": "text/x-python",
   "name": "python",
   "nbconvert_exporter": "python",
   "pygments_lexer": "ipython3",
   "version": "3.11.0"
  },
  "toc": {
   "base_numbering": 1,
   "nav_menu": {},
   "number_sections": true,
   "sideBar": true,
   "skip_h1_title": false,
   "title_cell": "Table of Contents",
   "title_sidebar": "Contents",
   "toc_cell": false,
   "toc_position": {},
   "toc_section_display": true,
   "toc_window_display": false
  }
 },
 "nbformat": 4,
 "nbformat_minor": 5
}
