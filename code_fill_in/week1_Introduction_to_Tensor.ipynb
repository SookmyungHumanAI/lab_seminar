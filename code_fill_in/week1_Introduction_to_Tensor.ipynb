{
 "cells": [
  {
   "cell_type": "code",
   "execution_count": null,
   "id": "5c8eac3f",
   "metadata": {},
   "outputs": [],
   "source": [
    "import os \n",
    "os.getcwd()"
   ]
  },
  {
   "cell_type": "markdown",
   "id": "d6fc24aa",
   "metadata": {},
   "source": [
    "https://tutorials.pytorch.kr/beginner/blitz/tensor_tutorial.html\n",
    "- 텐서(tensor)는 배열(array)이나 행렬(matrix)과 매우 유사한 특수한 자료구조입니다. PyTorch에서는 텐서를 사용하여 모델의 입력과 출력뿐만 아니라 모델의 매개변수를 부호화(encode)합니다.\n",
    "\n",
    "- GPU나 다른 연산 가속을 위한 특수한 하드웨어에서 실행할 수 있다는 점을 제외하면, 텐서는 NumPy의 ndarray와 매우 유사합니다. 만약 ndarray에 익숙하다면 Tensor API를 바로 사용할 수 있습니다. 만약 그렇지 않다면, 이 튜토리얼을 따라하며 API를 빠르게 익혀볼 수 있습니다."
   ]
  },
  {
   "cell_type": "markdown",
   "id": "fe2ef59b",
   "metadata": {},
   "source": [
    "# list<->tensor<->array\n"
   ]
  },
  {
   "cell_type": "code",
   "execution_count": null,
   "id": "d97b858c",
   "metadata": {},
   "outputs": [],
   "source": [
    "import torch\n",
    "import numpy as np\n",
    "torch.__version__, np.__version__"
   ]
  },
  {
   "cell_type": "markdown",
   "id": "d10e69bc",
   "metadata": {},
   "source": [
    "## list to tensor/array\n",
    "### "
   ]
  },
  {
   "cell_type": "code",
   "execution_count": null,
   "id": "57c17fe3",
   "metadata": {},
   "outputs": [],
   "source": [
    "data = [[1, 2, 3], [4, 5, 6]]"
   ]
  },
  {
   "cell_type": "code",
   "execution_count": null,
   "id": "71ee50c6",
   "metadata": {},
   "outputs": [],
   "source": [
    "lst_to_tensor = torch.tensor(data) # tensor 로 묶어줌. \n",
    "print(\"shape of lst_to_tensor:\", lst_to_tensor.shape)"
   ]
  },
  {
   "cell_type": "code",
   "execution_count": null,
   "id": "0c747c8c",
   "metadata": {},
   "outputs": [],
   "source": [
    "lst_to_tensor"
   ]
  },
  {
   "cell_type": "code",
   "execution_count": null,
   "id": "91294bf1",
   "metadata": {},
   "outputs": [],
   "source": [
    "data = [[1, 2, 3], [4, 5, 6]]"
   ]
  },
  {
   "cell_type": "code",
   "execution_count": null,
   "id": "2698534a",
   "metadata": {},
   "outputs": [],
   "source": [
    "lst_to_arr = np.array(data)\n",
    "print(\"shape of lst_to_arr:\", lst_to_arr.shape)"
   ]
  },
  {
   "cell_type": "code",
   "execution_count": null,
   "id": "2ded3afc",
   "metadata": {},
   "outputs": [],
   "source": [
    "lst_to_arr"
   ]
  },
  {
   "cell_type": "markdown",
   "id": "13785143",
   "metadata": {},
   "source": [
    "### list to tensor - error\n"
   ]
  },
  {
   "cell_type": "code",
   "execution_count": null,
   "id": "9d2ebdb4",
   "metadata": {},
   "outputs": [],
   "source": [
    "data = [[1, 2], [3, 4, 5, 6]]\n",
    "lst_to_tensor_err = torch.tensor(data)\n",
    "print(\"shape of lst_to_tensor_err:\", lst_to_tensor_err.shape)"
   ]
  },
  {
   "cell_type": "markdown",
   "id": "b15f9ad1",
   "metadata": {},
   "source": [
    "- list를 tensor로 바꿀 때는 shape이 모두 같아야 함"
   ]
  },
  {
   "cell_type": "markdown",
   "id": "a49e681e",
   "metadata": {},
   "source": [
    "### list to array"
   ]
  },
  {
   "cell_type": "code",
   "execution_count": null,
   "id": "ab4ac7c5",
   "metadata": {},
   "outputs": [],
   "source": [
    "data = [[1, 2], [3, 4, 5, 6]]\n",
    "lst_to_arr = np.array(data)\n",
    "print(\"shape of lst_to_arr:\", lst_to_arr.shape)"
   ]
  },
  {
   "cell_type": "markdown",
   "id": "9de1c8ca",
   "metadata": {},
   "source": [
    "- 길이가 다른 list를 array로 바꾸는 것은 가능하지만 보통 이렇게 잘 안 쓰긴 함.\n",
    "- 오류 메시지에 뜬대로 dtype=object를 해주든가 다른 데이터 타입으로 남겨놓는 것을 추천."
   ]
  },
  {
   "cell_type": "code",
   "execution_count": null,
   "id": "7d167da4",
   "metadata": {},
   "outputs": [],
   "source": [
    "data = [[1, 2], [3, 4, 5, 6]]\n",
    "lst_to_arr = np.array(data, dtype=object)\n",
    "print(\"shape of lst_to_arr:\", lst_to_arr.shape)"
   ]
  },
  {
   "cell_type": "markdown",
   "id": "d9739faa",
   "metadata": {},
   "source": [
    "## array to tensor"
   ]
  },
  {
   "cell_type": "markdown",
   "id": "0584b5c7",
   "metadata": {},
   "source": [
    "<a href=https://numpy.org/doc/stable/reference/generated/numpy.ndarray.html>numpy.ndarray</a>"
   ]
  },
  {
   "cell_type": "markdown",
   "id": "da8a9f32",
   "metadata": {},
   "source": [
    "Batch X Channel X Height X Width # 이미지 데이터의 구성 "
   ]
  },
  {
   "cell_type": "code",
   "execution_count": null,
   "id": "34b91fae",
   "metadata": {},
   "outputs": [],
   "source": [
    "data = np.ndarray((4,3)) # 3개짜리가 4개 \n",
    "arr_to_tensor = torch.tensor(data)\n",
    "# arr_to_tensor = torch.Tensor(data)\n",
    "print(\"shape of arr_to_tensor:\", arr_to_tensor.shape)"
   ]
  },
  {
   "cell_type": "code",
   "execution_count": null,
   "id": "bbc41751",
   "metadata": {},
   "outputs": [],
   "source": [
    "data"
   ]
  },
  {
   "cell_type": "code",
   "execution_count": null,
   "id": "95d12f03",
   "metadata": {},
   "outputs": [],
   "source": [
    "data = np.ndarray((4,3))\n",
    "arr_to_tensor = torch.from_numpy(data)\n",
    "print(\"shape of arr_to_tensor:\", arr_to_tensor.shape)"
   ]
  },
  {
   "cell_type": "code",
   "execution_count": null,
   "id": "efb2fec3",
   "metadata": {},
   "outputs": [],
   "source": [
    "arr_to_tensor"
   ]
  },
  {
   "cell_type": "code",
   "execution_count": null,
   "id": "f86795bd",
   "metadata": {
    "scrolled": true
   },
   "outputs": [],
   "source": [
    "arr_to_tensor[1][2], arr_to_tensor[1,2], arr_to_tensor[1][2] == arr_to_tensor[1,2]"
   ]
  },
  {
   "cell_type": "markdown",
   "id": "e895eb7f",
   "metadata": {},
   "source": [
    "<a href=https://pytorch.org/vision/stable/generated/torchvision.transforms.ToTensor.html>ToTensor</a>\n",
    "- ToTensor는 PIL 이미지와 ndarray를 tensor로 바꿔주는 클래스\n",
    "- torch가 아닌 torchvision에서 import 할 수 있음\n",
    "- class: torchvision.transforms.ToTensor"
   ]
  },
  {
   "cell_type": "code",
   "execution_count": null,
   "id": "17472246",
   "metadata": {},
   "outputs": [],
   "source": [
    "import numpy as np"
   ]
  },
  {
   "cell_type": "code",
   "execution_count": null,
   "id": "5d6dff07",
   "metadata": {},
   "outputs": [],
   "source": [
    "from torchvision.transforms import ToTensor\n",
    "rand_array = np.random.randint(low=0, high=256, size=(15, 20, 3), dtype=np.uint8)\n",
    "# H x W x C # 0~255, size는 tuple 형태\n",
    "rand_img = ToTensor()(rand_array) \n",
    "# C x H x W \n",
    "# channel 이 앞으로 오도록\n",
    "# 0~1 사이의 값이 오도록\n",
    "print(rand_array.shape, rand_array.max(), rand_array.min())\n",
    "print(rand_img.shape, rand_img.max().item(), rand_img.min().item())"
   ]
  },
  {
   "cell_type": "code",
   "execution_count": null,
   "id": "648b0c5b",
   "metadata": {},
   "outputs": [],
   "source": [
    "rand_img.permute((1,2,0)).shape"
   ]
  },
  {
   "cell_type": "code",
   "execution_count": null,
   "id": "3ebb9f42",
   "metadata": {},
   "outputs": [],
   "source": [
    "import matplotlib.pyplot as plt\n",
    "plt.figure(figsize=(12,6))\n",
    "plt.subplot(121)\n",
    "# 1번부터 순서 시작(0아님) \n",
    "# plt.subplot(1,2,1)과 같음 \n",
    "plt.title(\"random array\", fontsize=20)\n",
    "plt.imshow(rand_array)\n",
    "plt.subplot(122)\n",
    "plt.title(\"random image\", fontsize=20)\n",
    "plt.imshow(rand_img.permute((1,2,0)))\n",
    "# plt 는 채널이 뒤로 와야 인식함(0번째 축을 맨 뒤로 오도록)\n",
    "plt.show()"
   ]
  },
  {
   "cell_type": "markdown",
   "id": "1ac7821e",
   "metadata": {},
   "source": [
    "## tensor to array\n",
    "### "
   ]
  },
  {
   "cell_type": "code",
   "execution_count": null,
   "id": "9ab119cf",
   "metadata": {},
   "outputs": [],
   "source": [
    "data = torch.randn((4,3))\n",
    "tensor_to_arr = np.array(data)\n",
    "print(\"shape of tensor_to_arr:\", tensor_to_arr.shape)"
   ]
  },
  {
   "cell_type": "markdown",
   "id": "6350008a",
   "metadata": {},
   "source": [
    "<a href=https://numpy.org/doc/stable/reference/generated/numpy.asarray.html>asarray</a>\n",
    "- lists, lists of tuples, tuples, tuples of tuples, tuples of lists and ndarrays 를 array로 바꿔줌\n",
    "- tuple: 변하지 않는 것에 대한(사이즈) "
   ]
  },
  {
   "cell_type": "code",
   "execution_count": null,
   "id": "f100635a",
   "metadata": {},
   "outputs": [],
   "source": [
    "lst_to_arr.shape"
   ]
  },
  {
   "cell_type": "code",
   "execution_count": null,
   "id": "d8d77f65",
   "metadata": {},
   "outputs": [],
   "source": [
    "lst_to_arr = np.asarray([1,2,3,4,5])\n",
    "lst_to_arr, type(lst_to_arr)"
   ]
  },
  {
   "cell_type": "code",
   "execution_count": null,
   "id": "ae7302e9",
   "metadata": {},
   "outputs": [],
   "source": [
    "tensor_to_arr = np.asarray(torch.empty((4,5)))\n",
    "tensor_to_arr, type(tensor_to_arr)\n",
    "# nparray= array "
   ]
  },
  {
   "cell_type": "code",
   "execution_count": null,
   "id": "99795fab",
   "metadata": {},
   "outputs": [],
   "source": [
    "tuple_to_arr = np.asarray(tuple((1,2,3)))\n",
    "tuple_to_arr, type(tuple_to_arr)"
   ]
  },
  {
   "cell_type": "markdown",
   "id": "95f0b983",
   "metadata": {},
   "source": [
    "## something useful\n"
   ]
  },
  {
   "cell_type": "markdown",
   "id": "3e2e5104",
   "metadata": {},
   "source": [
    "### linspace"
   ]
  },
  {
   "cell_type": "code",
   "execution_count": null,
   "id": "429ec824",
   "metadata": {},
   "outputs": [],
   "source": [
    "# torch\n",
    "t_linspace = torch.linspace(start=0, end=1,steps=100)\n",
    "# 100 개로 쪼갬(칼질은 99번 )\n",
    "plt.figure(figsize=(16,3))\n",
    "plt.plot(t_linspace, \".\")\n",
    "# Marker 를 점으로 할거야 \n",
    "plt.show()\n",
    "t_linspace[0], t_linspace[-1], t_linspace.shape"
   ]
  },
  {
   "cell_type": "code",
   "execution_count": null,
   "id": "da7e0561",
   "metadata": {},
   "outputs": [],
   "source": [
    "# numpy\n",
    "n_linspace = np.linspace(start=0, stop=1, num=100)\n",
    "plt.figure(figsize=(16,3))\n",
    "plt.plot(n_linspace, \".\")\n",
    "plt.show()\n",
    "n_linspace[0], n_linspace[-1], n_linspace.shape"
   ]
  },
  {
   "cell_type": "markdown",
   "id": "15231aaa",
   "metadata": {},
   "source": [
    "### arange"
   ]
  },
  {
   "cell_type": "code",
   "execution_count": null,
   "id": "748b2de7",
   "metadata": {},
   "outputs": [],
   "source": [
    "# numpy\n",
    "n_arange = np.arange(start=0, stop=100, step=2)\n",
    "# 100은 열린 구간 100은 안됨, 2칸씩 뛰어라 \n",
    "plt.figure(figsize=(16,3))\n",
    "plt.plot(n_arange, \".\")\n",
    "plt.show()\n",
    "n_arange[0], n_arange[-1], n_arange.shape"
   ]
  },
  {
   "cell_type": "code",
   "execution_count": null,
   "id": "17c10d97",
   "metadata": {},
   "outputs": [],
   "source": [
    "# numpy\n",
    "t_arange = torch.arange(start=0, end=100, step=3)\n",
    "plt.figure(figsize=(16,3))\n",
    "plt.plot(t_arange, \".\")\n",
    "plt.show()\n",
    "t_arange[0], t_arange[-1], t_arange.shape"
   ]
  },
  {
   "cell_type": "markdown",
   "id": "7c66c3d7",
   "metadata": {},
   "source": [
    "### ones, zeros, empty, full"
   ]
  },
  {
   "cell_type": "markdown",
   "id": "7fe3aac4",
   "metadata": {},
   "source": [
    "torch\n"
   ]
  },
  {
   "cell_type": "code",
   "execution_count": null,
   "id": "a53182a3",
   "metadata": {},
   "outputs": [],
   "source": [
    "torch.ones((3,4))"
   ]
  },
  {
   "cell_type": "code",
   "execution_count": null,
   "id": "90b7f706",
   "metadata": {},
   "outputs": [],
   "source": [
    "torch.zeros((3,4))"
   ]
  },
  {
   "cell_type": "code",
   "execution_count": null,
   "id": "5406940e",
   "metadata": {},
   "outputs": [],
   "source": [
    "torch.empty((3,4), dtype=torch.int64) # torch.float32\n",
    "# empty- 임의의 값을 만들어 를 만들고 다음에 집어 넣는거 "
   ]
  },
  {
   "cell_type": "code",
   "execution_count": null,
   "id": "1a8c00e4",
   "metadata": {},
   "outputs": [],
   "source": [
    "torch.full((3,4), 3.14) \n",
    "# 3.14 로 채워넣음"
   ]
  },
  {
   "cell_type": "markdown",
   "id": "7e39a056",
   "metadata": {},
   "source": [
    "numpy"
   ]
  },
  {
   "cell_type": "code",
   "execution_count": null,
   "id": "05c3187e",
   "metadata": {},
   "outputs": [],
   "source": [
    "np.ones((3,4))"
   ]
  },
  {
   "cell_type": "code",
   "execution_count": null,
   "id": "1e508cce",
   "metadata": {},
   "outputs": [],
   "source": [
    "np.zeros((3,4))"
   ]
  },
  {
   "cell_type": "code",
   "execution_count": null,
   "id": "e48c5c9b",
   "metadata": {},
   "outputs": [],
   "source": [
    "np.empty((3,4), dtype=int)"
   ]
  },
  {
   "cell_type": "code",
   "execution_count": null,
   "id": "81fa8df6",
   "metadata": {},
   "outputs": [],
   "source": [
    "np.full((3,4), 3.14)"
   ]
  },
  {
   "cell_type": "markdown",
   "id": "0e516257",
   "metadata": {},
   "source": [
    "### ones_like, zeros_like, empty_like"
   ]
  },
  {
   "cell_type": "code",
   "execution_count": null,
   "id": "61fc8120",
   "metadata": {},
   "outputs": [],
   "source": [
    "data_cpu = torch.linspace(start=0, end=1,steps=100).cpu().to(torch.int32)\n",
    "data_cpu.device, data_cpu.dtype\n",
    "# cpu 에 데이터 생성 "
   ]
  },
  {
   "cell_type": "code",
   "execution_count": null,
   "id": "b9afe107",
   "metadata": {},
   "outputs": [],
   "source": [
    "data_gpu = torch.linspace(start=0, end=1,steps=100).cuda().to(torch.float64)\n",
    "data_gpu.device, data_gpu.dtype\n",
    "# gpu 에 데이터 생성"
   ]
  },
  {
   "cell_type": "code",
   "execution_count": null,
   "id": "752a284e",
   "metadata": {},
   "outputs": [],
   "source": [
    "data_cpu_like = torch.ones_like(data_cpu)\n",
    "data_cpu_like.device, data_cpu_like.dtype, data_cpu_like"
   ]
  },
  {
   "cell_type": "code",
   "execution_count": null,
   "id": "40e4eeb5",
   "metadata": {},
   "outputs": [],
   "source": [
    "data_gpu_like = torch.zeros_like(data_gpu)\n",
    "data_gpu_like.device, data_gpu_like.dtype, data_gpu_like\n",
    "#cuda:0는 총 gpu4개 중에 0번 째꺼"
   ]
  },
  {
   "cell_type": "markdown",
   "id": "0844963a",
   "metadata": {},
   "source": [
    "### Tensor.to(device, dtype)"
   ]
  },
  {
   "cell_type": "markdown",
   "id": "2b5192fc",
   "metadata": {},
   "source": [
    "device"
   ]
  },
  {
   "cell_type": "code",
   "execution_count": null,
   "id": "deea44d7",
   "metadata": {},
   "outputs": [],
   "source": [
    "torch.ones(3).to(\"cpu\"), torch.ones(3).to(\"cpu\").dtype"
   ]
  },
  {
   "cell_type": "code",
   "execution_count": null,
   "id": "619e4153",
   "metadata": {},
   "outputs": [],
   "source": [
    "torch.zeros(3).to(\"cuda\"), torch.zeros(3).to(\"cuda\").dtype\n",
    "# cuda : gpu 로 가 "
   ]
  },
  {
   "cell_type": "code",
   "execution_count": null,
   "id": "326e4375",
   "metadata": {},
   "outputs": [],
   "source": [
    "torch.zeros(3).to(\"cuda\")+torch.zeros(3).to(\"cpu\")\n",
    "# cpu , gpu 연산은 각각 이루어짐. "
   ]
  },
  {
   "cell_type": "markdown",
   "id": "e42c9941",
   "metadata": {},
   "source": [
    "dtype"
   ]
  },
  {
   "cell_type": "code",
   "execution_count": null,
   "id": "ee2b909b",
   "metadata": {},
   "outputs": [],
   "source": [
    "(torch.ones((10,)).float()).dtype"
   ]
  },
  {
   "cell_type": "code",
   "execution_count": null,
   "id": "8ab42b71",
   "metadata": {},
   "outputs": [],
   "source": [
    "linear = torch.nn.Linear(10,1)\n",
    "# layer 하나 생성 \n",
    "linear(torch.ones((10,)).double())\n",
    "# 인풋을 넣으줌\n",
    "# double = float 64"
   ]
  },
  {
   "cell_type": "code",
   "execution_count": null,
   "id": "d421bd33",
   "metadata": {
    "scrolled": true
   },
   "outputs": [],
   "source": [
    "linear(torch.ones((10,)).float())"
   ]
  },
  {
   "cell_type": "code",
   "execution_count": null,
   "id": "fce820c7",
   "metadata": {},
   "outputs": [],
   "source": [
    "for para in linear.parameters():\n",
    "    print(para.dtype)"
   ]
  },
  {
   "cell_type": "markdown",
   "id": "c3a25433",
   "metadata": {},
   "source": [
    "### type casting\n"
   ]
  },
  {
   "cell_type": "code",
   "execution_count": null,
   "id": "7bae1cd0",
   "metadata": {},
   "outputs": [],
   "source": [
    "randn = torch.randn((10,))"
   ]
  },
  {
   "cell_type": "code",
   "execution_count": null,
   "id": "90d65615",
   "metadata": {},
   "outputs": [],
   "source": [
    "randn.int()"
   ]
  },
  {
   "cell_type": "code",
   "execution_count": null,
   "id": "2ecc36b0",
   "metadata": {},
   "outputs": [],
   "source": [
    "randn.float()"
   ]
  },
  {
   "cell_type": "code",
   "execution_count": null,
   "id": "df727e53",
   "metadata": {},
   "outputs": [],
   "source": [
    "randn.double()"
   ]
  },
  {
   "cell_type": "markdown",
   "id": "8379ce00",
   "metadata": {},
   "source": [
    "<a href=https://velog.io/@minchoul2/torch.Tensor%EC%99%80-torch.tensor%EC%9D%98-%EC%B0%A8%EC%9D%B4>tensor vs. Tensor</a>"
   ]
  }
 ],
 "metadata": {
  "kernelspec": {
   "display_name": "Python 3 (ipykernel)",
   "language": "python",
   "name": "python3"
  },
  "language_info": {
   "codemirror_mode": {
    "name": "ipython",
    "version": 3
   },
   "file_extension": ".py",
   "mimetype": "text/x-python",
   "name": "python",
   "nbconvert_exporter": "python",
   "pygments_lexer": "ipython3",
   "version": "3.11.0"
  },
  "toc": {
   "base_numbering": 1,
   "nav_menu": {},
   "number_sections": true,
   "sideBar": true,
   "skip_h1_title": false,
   "title_cell": "Table of Contents",
   "title_sidebar": "Contents",
   "toc_cell": false,
   "toc_position": {},
   "toc_section_display": true,
   "toc_window_display": false
  }
 },
 "nbformat": 4,
 "nbformat_minor": 5
}
