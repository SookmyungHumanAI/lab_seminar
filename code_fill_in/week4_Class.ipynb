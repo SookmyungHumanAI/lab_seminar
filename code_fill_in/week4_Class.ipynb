{
 "cells": [
  {
   "cell_type": "code",
   "execution_count": null,
   "id": "a09b069d",
   "metadata": {},
   "outputs": [],
   "source": [
    "class_list = [\"수치해석\", \"헬스케어\", \"딥러닝\"]\n",
    "student1 = []\n",
    "def add_class1(class_name):\n",
    "    global student1\n",
    "    student1.append(class_name)\n",
    "\n",
    "add_class1(class_list[0])\n",
    "add_class1(class_list[1])\n",
    "student1"
   ]
  },
  {
   "cell_type": "code",
   "execution_count": null,
   "id": "718a7b09",
   "metadata": {},
   "outputs": [],
   "source": [
    "student2 = []\n",
    "def add_class2(class_name):\n",
    "    global student2\n",
    "    student2.append(class_name)\n",
    "add_class2(class_list[0])\n",
    "add_class2(class_list[2])\n",
    "student2"
   ]
  },
  {
   "cell_type": "code",
   "execution_count": null,
   "id": "e6578015",
   "metadata": {},
   "outputs": [],
   "source": []
  },
  {
   "cell_type": "code",
   "execution_count": null,
   "id": "8e26acbe",
   "metadata": {},
   "outputs": [],
   "source": [
    "class Student():\n",
    "    def __init__(self):\n",
    "        self.class_ = ????\n",
    "\n",
    "    def add_class(self, ????):\n",
    "        self.class_????\n",
    "\n",
    "student1 = Student()\n",
    "\n",
    "student1.add_class(class_list[0])\n",
    "student1.add_class(class_list[1])\n",
    "\n",
    "student1.class_"
   ]
  },
  {
   "cell_type": "code",
   "execution_count": null,
   "id": "1a985140",
   "metadata": {},
   "outputs": [],
   "source": [
    "student2 = Student()\n",
    "\n",
    "student2.add_class(class_list[0])\n",
    "student2.add_class(class_list[2])\n",
    "\n",
    "student2.class_"
   ]
  },
  {
   "cell_type": "code",
   "execution_count": null,
   "id": "fad88833",
   "metadata": {},
   "outputs": [],
   "source": []
  },
  {
   "cell_type": "code",
   "execution_count": null,
   "id": "bc3b1f13",
   "metadata": {},
   "outputs": [],
   "source": [
    "class Person:\n",
    "    def __init__(self, name, age):\n",
    "        self.name = name\n",
    "        self.age = age\n",
    "        \n",
    "    def print_info(self):\n",
    "        print(f\"name: {self.name}\\nage: {self.age}\")\n",
    "        \n",
    "class Student(Person):\n",
    "    def __init__(self, name, age, major, semester):\n",
    "        super().__init__(name, age)\n",
    "        self.major = major\n",
    "        self.semester = semester\n",
    "        self.set_info()\n",
    "        self.class_ = []\n",
    "        \n",
    "    def set_info(self):\n",
    "        self.grade = self.semester // 2\n",
    "        \n",
    "    def add_class(self, class_name):\n",
    "        self.class_.append(class_name)\n",
    "        \n",
    "    def print_info(self):\n",
    "        super().print_info()\n",
    "        print(f\"major: {self.major}\\nsemester: {self.semester}\\ngrade: {self.grade}\")\n",
    "        \n",
    "    def print_class_info(self):\n",
    "        print(f\"Take {len(self.class_)} class(es)\")\n",
    "        for cidx, cname in enumerate(self.class_):\n",
    "            print(f\"{cidx+1:d}교시 {cname}\")\n",
    "        \n",
    "        \n",
    "class Professor(Person):\n",
    "    def __init__(self, name, age, office):\n",
    "        super().__init__(name, age)\n",
    "        self.office = office\n",
    "        self.lectures = {}\n",
    "        \n",
    "    def add_lecture(self, lecture_name, credit):\n",
    "        self.lectures[lecture_name] = credit\n",
    "        \n",
    "    def print_info(self):\n",
    "        super().print_info()\n",
    "        print(f\"{len(self.lectures)} 수업\")\n",
    "        \n",
    "    def print_lecture_info(self):\n",
    "        print(f\"{len(self.lectures)} lecture(s)\")\n",
    "        for cidx, (lname, lcredit) in enumerate(self.lectures.items()):\n",
    "            print(f\"{lcredit}학점 {lname}\")"
   ]
  },
  {
   "cell_type": "code",
   "execution_count": null,
   "id": "d87d9f25",
   "metadata": {},
   "outputs": [],
   "source": [
    "st1 = Student()\n",
    "st1.add_class(class_list[0])\n",
    "st1.add_class(class_list[1])\n",
    "st1.print_class_info(), st1.print_info()"
   ]
  },
  {
   "cell_type": "code",
   "execution_count": null,
   "id": "488a9e31",
   "metadata": {},
   "outputs": [],
   "source": [
    "pf = Professor()\n",
    "pf.add_lecture(class_list[0],3)\n",
    "pf.add_lecture(class_list[1],3)\n",
    "pf.print_lecture_info(), pf.print_info()"
   ]
  },
  {
   "cell_type": "code",
   "execution_count": null,
   "id": "6626dcaa",
   "metadata": {},
   "outputs": [],
   "source": []
  },
  {
   "cell_type": "code",
   "execution_count": null,
   "id": "194b30dd",
   "metadata": {},
   "outputs": [],
   "source": [
    "import torch\n",
    "from torch.utils.data import Dataset\n",
    "from torchvision import datasets\n",
    "from torchvision.transforms import ToTensor"
   ]
  },
  {
   "cell_type": "code",
   "execution_count": null,
   "id": "debd1e4c",
   "metadata": {},
   "outputs": [],
   "source": [
    "device = \"cuda\" if torch.cuda.is_available() else \"cpu\"\n",
    "print(f\"Using {device} device\")"
   ]
  },
  {
   "cell_type": "code",
   "execution_count": null,
   "id": "95ddea0f",
   "metadata": {},
   "outputs": [],
   "source": [
    "import os\n",
    "from PIL import Image\n",
    "from glob import glob\n",
    "from torch.utils.data import Dataset, DataLoader\n",
    "from torchvision.transforms import ToTensor\n",
    "import matplotlib.pyplot as plt\n",
    "\n",
    "class MNIST(Dataset):\n",
    "    def __init__(self, data_path=\"../Dataset/MNIST\", train=True, device=None) -> None:\n",
    "        super().__init__()\n",
    "        self.train = train\n",
    "        self.folder = \"training\" if self.train else \"testing\"\n",
    "        self.shuffle = True if self.train else False\n",
    "        self.data_path = f\"{data_path}/{self.folder}\"\n",
    "        self.device = device\n",
    "        self.load_data()\n",
    "        \n",
    "        self.data = self.data.to(self.device)\n",
    "        self.targets = self.targets.to(self.device)\n",
    "        print(f\"load {len(self.data)} data for {self.folder}\")\n",
    "        \n",
    "    def load_data(self):\n",
    "        self.data = torch.empty(0)\n",
    "        self.targets = torch.empty(0)\n",
    "        for i in range(10):\n",
    "            img_path = f\"{self.data_path}/{i}/*.png\"\n",
    "            for idx, fname in enumerate(glob(img_path)):\n",
    "                img = Image.open(fname)\n",
    "                img_tensor = ToTensor()(img)[None, ...]\n",
    "                label = torch.tensor([i])#[None, ...]\n",
    "                self.data = torch.cat((self.data, img_tensor), dim=0)\n",
    "                self.targets = torch.cat((self.targets, label), dim=0)\n",
    "                \n",
    "                if self.train and idx%5000==5000-1:\n",
    "                    break \n",
    "#             print(f\"load {len(self.data)} data\")\n",
    "                    \n",
    "#                 if (not self.train) and idx%10==10-1:\n",
    "#                     print(f\"load {len(self.data)} data\")\n",
    "#                     break \n",
    "    \n",
    "    def __len__(self) -> int:\n",
    "        return len(self.data)\n",
    "    \n",
    "    def __getitem__(self, index: int):\n",
    "        \"\"\"\n",
    "        Args:\n",
    "            index (int): Index\n",
    "\n",
    "        Returns:\n",
    "            tuple: (image, target) where target is index of the target class.\n",
    "        \"\"\"\n",
    "        img, target = self.data[index], self.targets[index].to(dtype=torch.int64)\n",
    "        return img, target"
   ]
  },
  {
   "cell_type": "code",
   "execution_count": null,
   "id": "4dd4d3fb",
   "metadata": {},
   "outputs": [],
   "source": [
    "train_dataset = MNIST(train=True, device=device)\n",
    "valid_dataset = MNIST(train=False, device=device)"
   ]
  },
  {
   "cell_type": "code",
   "execution_count": null,
   "id": "7503b0d8",
   "metadata": {
    "scrolled": false
   },
   "outputs": [],
   "source": [
    "# vis_dataset = MNIST(train=False, device=\"cuda\")"
   ]
  },
  {
   "cell_type": "code",
   "execution_count": null,
   "id": "a64019fa",
   "metadata": {},
   "outputs": [],
   "source": [
    "batch_size = 512\n",
    "train_loader = DataLoader(train_dataset, batch_size = batch_size, shuffle=True)\n",
    "valid_loader = DataLoader(valid_dataset, batch_size = batch_size, shuffle=False)"
   ]
  },
  {
   "cell_type": "code",
   "execution_count": null,
   "id": "88964ad6",
   "metadata": {},
   "outputs": [],
   "source": [
    "import torch.nn as nn\n",
    "class NeuralNetwork(nn.Module):\n",
    "    def __init__(self):\n",
    "        super().__init__()\n",
    "        self.flatten = nn.Flatten()\n",
    "        self.linear_relu_stack = nn.Sequential(\n",
    "            nn.Linear(28*28, 512),\n",
    "            nn.ReLU(),\n",
    "            nn.Linear(512, 512),\n",
    "            nn.ReLU(),\n",
    "            nn.Linear(512, 10),\n",
    "        )\n",
    "\n",
    "    def forward(self, x):\n",
    "        x = self.flatten(x)\n",
    "        logits = self.linear_relu_stack(x)\n",
    "        return logits"
   ]
  },
  {
   "cell_type": "code",
   "execution_count": null,
   "id": "42bc51d7",
   "metadata": {},
   "outputs": [],
   "source": [
    "model = NeuralNetwork().to(\"cuda\")\n",
    "print(model)"
   ]
  },
  {
   "cell_type": "markdown",
   "id": "388db6a8",
   "metadata": {},
   "source": [
    "<a href=\"https://pytorch.org/docs/stable/generated/torch.nn.CrossEntropyLoss.html\">Cross Entropy Loss</a>"
   ]
  },
  {
   "cell_type": "code",
   "execution_count": null,
   "id": "28d271ab",
   "metadata": {},
   "outputs": [],
   "source": [
    "def train_loop(dataloader, model, loss_fn, optimizer):\n",
    "    size = len(dataloader.dataset)\n",
    "    num_batches = len(dataloader)\n",
    "    print(size, num_batches)\n",
    "    \n",
    "    train_loss = 0\n",
    "    model.train()\n",
    "    for batch, (X, y) in enumerate(dataloader):\n",
    "        # 예측(prediction)과 손실(loss) 계산\n",
    "        pred = model(X)\n",
    "        loss = loss_fn(pred, y)\n",
    "        train_loss += loss.item()\n",
    "\n",
    "        # 역전파\n",
    "        optimizer.zero_grad()\n",
    "        loss.backward()\n",
    "        optimizer.step()\n",
    "#         if batch % 100 == 0:\n",
    "#             loss, current = loss.item(), (batch + 1) * len(X)\n",
    "#             print(f\"Train loss: {loss:>7f}  [{current:>5d}/{size:>5d}]\")\n",
    "    train_loss /= num_batches\n",
    "    return train_loss\n",
    "\n",
    "def test_loop(dataloader, model, loss_fn):\n",
    "    size = len(dataloader.dataset)\n",
    "    num_batches = len(dataloader)\n",
    "    test_loss, correct = 0, 0\n",
    "    model.eval()\n",
    "    with torch.no_grad():\n",
    "        for X, y in dataloader:\n",
    "            pred = model(X)\n",
    "            test_loss += loss_fn(pred, y).item()\n",
    "            correct += (pred.argmax(1) == y).type(torch.float).sum().item()\n",
    "\n",
    "    test_loss /= num_batches\n",
    "    correct /= size\n",
    "    print(f\"Test Error: Accuracy: {(100*correct):>0.1f}%, Avg loss: {test_loss:>8f} \\n\")\n",
    "    return correct, test_loss"
   ]
  },
  {
   "cell_type": "code",
   "execution_count": null,
   "id": "9b6cc161",
   "metadata": {
    "scrolled": true
   },
   "outputs": [],
   "source": [
    "learning_rate = 0.001\n",
    "epochs = 100\n",
    "loss_fn = nn.CrossEntropyLoss()\n",
    "model = NeuralNetwork().to(device)\n",
    "\n",
    "optimizer = torch.optim.Adam(model.parameters(), lr=learning_rate)\n",
    "monitor = 20\n",
    "corrects = []\n",
    "train_losses = []\n",
    "test_losses = []\n",
    "for t in range(epochs):\n",
    "    print(f\"Epoch {t+1}\\n-------------------------------\")\n",
    "    train_loss = train_loop(train_loader, model, loss_fn, optimizer)\n",
    "    correct, test_loss = test_loop(valid_loader, model, loss_fn)\n",
    "    corrects.append(correct)\n",
    "    train_losses.append(train_loss)\n",
    "    test_losses.append(test_loss)\n",
    "    if t%monitor==monitor-1:\n",
    "        plt.plot(train_losses, label=\"train\")\n",
    "        plt.plot(test_losses, label=\"test\")\n",
    "        plt.legend()\n",
    "        plt.show()\n",
    "        plt.close()\n",
    "    \n",
    "print(\"Done!\")"
   ]
  },
  {
   "cell_type": "markdown",
   "id": "1accdab0",
   "metadata": {},
   "source": [
    "## Save checkpoint option1"
   ]
  },
  {
   "cell_type": "code",
   "execution_count": null,
   "id": "0e96a4f0",
   "metadata": {},
   "outputs": [],
   "source": [
    "os.mkdir(\"ckpts1\")"
   ]
  },
  {
   "cell_type": "code",
   "execution_count": null,
   "id": "e0b7ae77",
   "metadata": {
    "scrolled": true
   },
   "outputs": [],
   "source": [
    "learning_rate = 0.001\n",
    "epochs = 100\n",
    "loss_fn = nn.CrossEntropyLoss()\n",
    "model = NeuralNetwork().to(device)\n",
    "\n",
    "optimizer = torch.optim.Adam(model.parameters(), lr=learning_rate)\n",
    "monitor = 20\n",
    "corrects = []\n",
    "train_losses = []\n",
    "test_losses = []\n",
    "for t in range(epochs):\n",
    "    print(f\"Epoch {t+1}\\n-------------------------------\")\n",
    "    train_loss = train_loop(train_loader, model, loss_fn, optimizer)\n",
    "    correct, test_loss = test_loop(valid_loader, model, loss_fn)\n",
    "    corrects.append(correct)\n",
    "    train_losses.append(train_loss)\n",
    "    test_losses.append(test_loss)\n",
    "    if t%monitor==monitor-1:\n",
    "        plt.plot(train_losses, label=\"train\")\n",
    "        plt.plot(test_losses, label=\"test\")\n",
    "        plt.legend()\n",
    "        plt.show()\n",
    "        plt.close()\n",
    "    torch.save(model????,save_path???)\n",
    "    break\n",
    "    \n",
    "print(\"Done!\")"
   ]
  },
  {
   "cell_type": "markdown",
   "id": "bafcd674",
   "metadata": {},
   "source": [
    "option2"
   ]
  },
  {
   "cell_type": "markdown",
   "id": "ac39d25f",
   "metadata": {},
   "source": [
    "## Save checkpoint option2"
   ]
  },
  {
   "cell_type": "code",
   "execution_count": null,
   "id": "c6976951",
   "metadata": {},
   "outputs": [],
   "source": [
    "os.mkdir(\"ckpts2\")"
   ]
  },
  {
   "cell_type": "code",
   "execution_count": null,
   "id": "dbff618a",
   "metadata": {
    "scrolled": true
   },
   "outputs": [],
   "source": [
    "learning_rate = 0.001\n",
    "epochs = 100\n",
    "loss_fn = nn.CrossEntropyLoss()\n",
    "model = NeuralNetwork().to(device)\n",
    "\n",
    "optimizer = torch.optim.Adam(model.parameters(), lr=learning_rate)\n",
    "monitor = 20\n",
    "corrects = []\n",
    "train_losses = []\n",
    "test_losses = []\n",
    "min_loss = torch.tensor(float('inf')).cuda()\n",
    "for t in range(epochs):\n",
    "    print(f\"Epoch {t+1}\\n-------------------------------\")\n",
    "    train_loss = train_loop(train_loader, model, loss_fn, optimizer)\n",
    "    correct, test_loss = test_loop(valid_loader, model, loss_fn)\n",
    "    corrects.append(correct)\n",
    "    train_losses.append(train_loss)\n",
    "    test_losses.append(test_loss)\n",
    "    if t%monitor==monitor-1:\n",
    "        plt.plot(train_losses, label=\"train\")\n",
    "        plt.plot(test_losses, label=\"test\")\n",
    "        plt.legend()\n",
    "        plt.show()\n",
    "        plt.close()\n",
    "    if ????:\n",
    "        ????\n",
    "        print(\"save\")\n",
    "        torch.save(model????,save_path???)\n",
    "    \n",
    "print(\"Done!\")"
   ]
  },
  {
   "cell_type": "markdown",
   "id": "ac58ddb9",
   "metadata": {},
   "source": [
    "## Visualize"
   ]
  },
  {
   "cell_type": "code",
   "execution_count": null,
   "id": "ca3e2b9f",
   "metadata": {},
   "outputs": [],
   "source": [
    "eval_model = NeuralNetwork().to(device)\n",
    "eval_model.load model???(????)"
   ]
  },
  {
   "cell_type": "code",
   "execution_count": null,
   "id": "7ce68cb8",
   "metadata": {},
   "outputs": [],
   "source": [
    "eval_model.eval()\n",
    "vis_loader = DataLoader(vis_dataset, batch_size = batch_size, shuffle=False)\n",
    "with torch.no_grad():\n",
    "    for img, target in vis_loader:\n",
    "        break\n",
    "    out = eval_model(img)"
   ]
  },
  {
   "cell_type": "code",
   "execution_count": null,
   "id": "bb5cbe4c",
   "metadata": {},
   "outputs": [],
   "source": [
    "plt.figure(figsize=(13,13))\n",
    "for i in range(100):\n",
    "    plt.subplot(10,10,i+1)\n",
    "    plt.imshow(img[i].permute(1,2,0).cpu().detach())\n",
    "    plt.title(f\"{target[i].item()},{torch.argmax(out[i]).item()}\")\n",
    "    plt.tight_layout()\n",
    "    plt.axis(\"off\")\n",
    "plt.show()\n",
    "plt.close()"
   ]
  },
  {
   "cell_type": "code",
   "execution_count": null,
   "id": "8bfb35b1",
   "metadata": {},
   "outputs": [],
   "source": []
  }
 ],
 "metadata": {
  "kernelspec": {
   "display_name": "Python 3",
   "language": "python",
   "name": "python3"
  },
  "language_info": {
   "codemirror_mode": {
    "name": "ipython",
    "version": 3
   },
   "file_extension": ".py",
   "mimetype": "text/x-python",
   "name": "python",
   "nbconvert_exporter": "python",
   "pygments_lexer": "ipython3",
   "version": "3.7.9"
  }
 },
 "nbformat": 4,
 "nbformat_minor": 5
}
